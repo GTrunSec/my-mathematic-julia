{
 "cells": [
  {
   "cell_type": "code",
   "execution_count": 2,
   "metadata": {
    "collapsed": false
   },
   "outputs": [],
   "source": [
    "import sympy\n",
    "import numpy as np\n",
    "import matplotlib.pyplot as plt\n",
    "# 指定x为符号\n",
    "x = sympy.Symbol('x')\n",
    "# exp为公式\n",
    "exp = np.e**x\n",
    "# 下面开始求和,就求前21项的和吧\n",
    "sums = 0\n",
    "for i in range(20):\n",
    "   # 求i次导函数\n",
    "   numerator = exp.diff(x,i)\n",
    "   # 计算导函数在x=0处的值\n",
    "   numerator = numerator.evalf(subs={x:0})\n",
    "   denominator = np.math.factorial(i)\n",
    "   sums += numerator/denominator*x**i"
   ]
  },
  {
   "cell_type": "code",
   "execution_count": 6,
   "metadata": {
    "collapsed": false
   },
   "outputs": [],
   "source": [
    "exp.evalf(subs={x:0})-sums.evalf(subs={x:0})\n",
    "# result is 0\n",
    "xvals = np.linspace(0,20,100)"
   ]
  },
  {
   "cell_type": "code",
   "execution_count": 7,
   "metadata": {
    "collapsed": false
   },
   "outputs": [
    {
     "data": {
      "image/png": "[encoded data removed]",
      "text/plain": [
       "<Figure size 432x288 with 1 Axes>"
      ]
     },
     "metadata": {
      "needs_background": "light"
     },
     "output_type": "display_data"
    }
   ],
   "source": [
    "for xval in xvals:\n",
    "    plt.plot(xval,exp.evalf(subs={x:xval}),'bo',xval,sums.evalf(subs={x:xval}),'ro')"
   ]
  },
  {
   "cell_type": "code",
   "execution_count": 8,
   "metadata": {
    "collapsed": false
   },
   "outputs": [
    {
     "data": {
      "image/png": "[encoded data removed]",
      "text/plain": [
       "<Figure size 432x288 with 1 Axes>"
      ]
     },
     "metadata": {
      "needs_background": "light"
     },
     "output_type": "display_data"
    }
   ],
   "source": [
    "def polyApprox(func,num_terms):\n",
    "  # 当我们需要反复做类似的步骤的时候，最好将步骤定义为一个函数\n",
    "  sums = 0\n",
    "  for i in range(num_terms):\n",
    "      numerator = func.diff(x,i)\n",
    "      numerator = numerator.evalf(subs={x:0})\n",
    "      denominator = np.math.factorial(i)\n",
    "      sums += numerator/denominator*x**i\n",
    "  return sums\n",
    "\n",
    "sum5 = polyApprox(exp,5)\n",
    "sum10 = polyApprox(exp,10)\n",
    "\n",
    "# 利用sympy我们也可以获得泰勒级数：\n",
    "sum15 = exp.series(x,0,15).removeO()\n",
    "\n",
    "xvals = np.linspace(5,10,100)\n",
    "for xval in xvals:\n",
    "  plt.plot(xval,exp.evalf(subs={x:xval}),'bo',\\\n",
    "           xval,sum5.evalf(subs={x:xval}),'ro',\\\n",
    "           xval,sum10.evalf(subs={x:xval}),'go',\\\n",
    "           xval,sum15.evalf(subs={x:xval}),'yo')"
   ]
  },
  {
   "cell_type": "code",
   "execution_count": 21,
   "metadata": {
    "collapsed": false
   },
   "outputs": [],
   "source": [
    "def taylorExpansion(func,var,expPoint,numTerms):\n",
    "    return func.series(var,expPoint,numTerms)"
   ]
  },
  {
   "cell_type": "code",
   "execution_count": null,
   "metadata": {
    "collapsed": false
   },
   "outputs": [],
   "source": []
  }
 ],
 "metadata": {
  "kernelspec": {
   "argv": [
    "/nix/store/5qcm44zxnmgbyhwnlc0ca2x7rzfr28lv-python3-3.8.5-env/bin/python3.8",
    "-m",
    "ipykernel_launcher",
    "-f",
    "{connection_file}"
   ],
   "display_name": "Python3 - Python-data-env",
   "env": null,
   "interrupt_mode": "signal",
   "language": "python",
   "metadata": null,
   "name": "ipython_python-data-env"
  },
  "name": "calculus-with-python-Taylor-Series.ipynb"
 },
 "nbformat": 4,
 "nbformat_minor": 4
}
