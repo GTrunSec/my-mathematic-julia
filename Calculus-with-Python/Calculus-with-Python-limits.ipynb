{
 "cells": [
  {
   "cell_type": "code",
   "execution_count": 1,
   "metadata": {
    "collapsed": false
   },
   "outputs": [],
   "source": [
    "import sympy\n",
    "import numpy as np\n",
    "import matplotlib.pyplot as plt"
   ]
  },
  {
   "cell_type": "code",
   "execution_count": 4,
   "metadata": {
    "collapsed": false
   },
   "outputs": [
    {
     "data": {
      "image/png": "[encoded data removed]",
      "text/plain": [
       "<Figure size 432x288 with 1 Axes>"
      ]
     },
     "metadata": {
      "needs_background": "light"
     },
     "output_type": "display_data"
    }
   ],
   "source": [
    "f = lambda x: x**2-2*x-6\n",
    "x = np.linspace(0,5,100)\n",
    "y = f(x)\n",
    "\n",
    "plt.plot(x,y,'red')\n",
    "plt.grid('off')\n",
    "\n",
    "l = plt.axhline(-8,0,1,linewidth = 2, color = 'black')\n",
    "l = plt.axvline(0,0,1,linewidth = 2, color = 'black')\n",
    "\n",
    "l = plt.axhline(y=2,xmin=0,xmax=0.8,linestyle=\"--\")\n",
    "l = plt.axvline(x=4,ymin=0,ymax=float(5)/9, linestyle = \"--\")\n",
    "\n",
    "l = plt.axhline(-6,3.7/5,4.3/5,linewidth = 2, color = 'black')\n",
    "l = plt.axvline(1,6.0/18,14.0/18,linewidth = 2, color = 'black')\n",
    "\n",
    "p = plt.axhspan(-2,6,0,(1+np.sqrt(13))/5,alpha = 0.15, ec = 'none')\n",
    "p = plt.axvspan((1+np.sqrt(5)),(1+np.sqrt(13)),0,1.0/3,alpha = 0.15, ec = 'none')\n",
    "\n",
    "p = plt.axhspan(f(3.7),f(4.3),0,4.3/5,alpha = 0.3, ec = 'none')\n",
    "p = plt.axvspan(3.7,4.3,0,(f(3.7)+8)/18,alpha = 0.3, ec = 'none')\n",
    "\n",
    "plt.axis([0,5,-8,10])\n",
    "\n",
    "\n",
    "plt.text(0.8,-1,r\"$\\epsilon$\", fontsize = 18)\n",
    "plt.text(0.8,4,r\"$\\epsilon$\", fontsize = 18)\n",
    "plt.text(3.75,-7.0,r\"$\\delta$\", fontsize = 18)\n",
    "plt.text(4.1,-7.0,r\"$\\delta$\", fontsize = 18)\n",
    "plt.text(3.95,-7.8,r\"$a$\", fontsize = 18)\n",
    "plt.text(4.5,8.5,r\"$f(x)$\", fontsize = 18,color=\"red\")\n",
    "\n",
    "\n",
    "plt.show()"
   ]
  },
  {
   "cell_type": "code",
   "execution_count": 5,
   "metadata": {
    "collapsed": false
   },
   "outputs": [
    {
     "data": {
      "text/latex": [
       "$\\displaystyle -6$"
      ],
      "text/plain": [
       "-6"
      ]
     },
     "execution_count": 5,
     "metadata": {},
     "output_type": "execute_result"
    }
   ],
   "source": [
    " x = sympy.Symbol('x',real = True)\n",
    " y = f(x)\n",
    " y.limit(x, 2)"
   ]
  },
  {
   "cell_type": "code",
   "execution_count": null,
   "metadata": {
    "collapsed": false
   },
   "outputs": [],
   "source": []
  }
 ],
 "metadata": {
  "kernelspec": {
   "argv": [
    "/nix/store/5qcm44zxnmgbyhwnlc0ca2x7rzfr28lv-python3-3.8.5-env/bin/python3.8",
    "-m",
    "ipykernel_launcher",
    "-f",
    "{connection_file}"
   ],
   "display_name": "Python3 - Python-data-env",
   "env": null,
   "interrupt_mode": "signal",
   "language": "python",
   "metadata": null,
   "name": "ipython_python-data-env"
  },
  "name": "Calculus-with-Python-limits.ipynb"
 },
 "nbformat": 4,
 "nbformat_minor": 4
}
